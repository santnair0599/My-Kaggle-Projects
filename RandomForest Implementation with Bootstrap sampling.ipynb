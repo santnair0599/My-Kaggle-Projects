{
 "cells": [
  {
   "cell_type": "markdown",
   "metadata": {
    "colab_type": "text",
    "id": "3sNKZq4XrXQh"
   },
   "source": [
    "# <font color='red'><b>Bootstrap Model with Random Forest</b> </font>"
   ]
  },
  {
   "cell_type": "markdown",
   "metadata": {
    "colab_type": "text",
    "id": "cuxBq_bvrwh2"
   },
   "source": [
    "<font color='blue'> <b>Importing packages</b> </font>"
   ]
  },
  {
   "cell_type": "code",
   "execution_count": 1,
   "metadata": {
    "colab": {},
    "colab_type": "code",
    "id": "m6ag91ijrQOs"
   },
   "outputs": [],
   "source": [
    "import numpy as np # importing numpy for numerical computation\n",
    "from sklearn.datasets import load_boston # here we are using sklearn's boston dataset\n",
    "from sklearn.metrics import mean_squared_error # importing mean_squared_error metric"
   ]
  },
  {
   "cell_type": "code",
   "execution_count": 3,
   "metadata": {
    "colab": {},
    "colab_type": "code",
    "id": "CcHOsONTt1K_"
   },
   "outputs": [],
   "source": [
    "boston = load_boston()\n",
    "x=boston.data #independent variables\n",
    "y=boston.target #target variable"
   ]
  },
  {
   "cell_type": "code",
   "execution_count": 4,
   "metadata": {
    "colab": {
     "base_uri": "https://localhost:8080/",
     "height": 34
    },
    "colab_type": "code",
    "id": "pc1htEFYuLRj",
    "outputId": "f5b60712-98b3-4cdc-b629-3546c1e3859c"
   },
   "outputs": [
    {
     "data": {
      "text/plain": [
       "(506, 13)"
      ]
     },
     "execution_count": 4,
     "metadata": {},
     "output_type": "execute_result"
    }
   ],
   "source": [
    "x.shape"
   ]
  },
  {
   "cell_type": "code",
   "execution_count": 5,
   "metadata": {
    "colab": {
     "base_uri": "https://localhost:8080/",
     "height": 269
    },
    "colab_type": "code",
    "id": "kQle3T_wuOa3",
    "outputId": "521c7bdd-5316-48d5-c534-b61d170d2c28"
   },
   "outputs": [
    {
     "data": {
      "text/plain": [
       "array([[6.3200e-03, 1.8000e+01, 2.3100e+00, 0.0000e+00, 5.3800e-01,\n",
       "        6.5750e+00, 6.5200e+01, 4.0900e+00, 1.0000e+00, 2.9600e+02,\n",
       "        1.5300e+01, 3.9690e+02, 4.9800e+00],\n",
       "       [2.7310e-02, 0.0000e+00, 7.0700e+00, 0.0000e+00, 4.6900e-01,\n",
       "        6.4210e+00, 7.8900e+01, 4.9671e+00, 2.0000e+00, 2.4200e+02,\n",
       "        1.7800e+01, 3.9690e+02, 9.1400e+00],\n",
       "       [2.7290e-02, 0.0000e+00, 7.0700e+00, 0.0000e+00, 4.6900e-01,\n",
       "        7.1850e+00, 6.1100e+01, 4.9671e+00, 2.0000e+00, 2.4200e+02,\n",
       "        1.7800e+01, 3.9283e+02, 4.0300e+00],\n",
       "       [3.2370e-02, 0.0000e+00, 2.1800e+00, 0.0000e+00, 4.5800e-01,\n",
       "        6.9980e+00, 4.5800e+01, 6.0622e+00, 3.0000e+00, 2.2200e+02,\n",
       "        1.8700e+01, 3.9463e+02, 2.9400e+00],\n",
       "       [6.9050e-02, 0.0000e+00, 2.1800e+00, 0.0000e+00, 4.5800e-01,\n",
       "        7.1470e+00, 5.4200e+01, 6.0622e+00, 3.0000e+00, 2.2200e+02,\n",
       "        1.8700e+01, 3.9690e+02, 5.3300e+00]])"
      ]
     },
     "execution_count": 5,
     "metadata": {},
     "output_type": "execute_result"
    }
   ],
   "source": [
    "x[:5]"
   ]
  },
  {
   "cell_type": "markdown",
   "metadata": {
    "colab_type": "text",
    "id": "YQ5q8IxHNRk3"
   },
   "source": [
    "<font color='red'> <b>Step - 1</b></font>"
   ]
  },
  {
   "cell_type": "markdown",
   "metadata": {
    "colab_type": "text",
    "id": "GJCFCaOzl7Mr"
   },
   "source": [
    "*  <font color='blue'><b>Creating samples</b></font><br>\n",
    "    <b> Randomly create 30 samples from the whole boston data points</b>\n",
    "    *  Creating each sample: Consider any random 303(60% of 506) data points from whole data set and then replicate any 203 points from the sampled points\n",
    "    \n",
    "     For better understanding of this procedure lets check this examples, assume we have 10 data points [1,2,3,4,5,6,7,8,9,10], first we take 6 data points randomly , consider we have selected [4, 5, 7, 8, 9, 3] now we will replicate 4 points from [4, 5, 7, 8, 9, 3], consder they are [5, 8, 3,7] so our final sample will be [4, 5, 7, 8, 9, 3, 5, 8, 3,7]\n",
    "* <font color='blue'><b> Create 30 samples </b></font>\n",
    "    *  Note that as a part of the Bagging when you are taking the random samples <b>make sure each of the sample will have different set of columns</b><br>\n",
    "Ex: Assume we have 10 columns[1 ,2 ,3 ,4 ,5 ,6 ,7 ,8 ,9 ,10] for the first sample we will select [3, 4, 5, 9, 1, 2] and for the second sample  [7, 9, 1, 4, 5, 6, 2] and so on...\n",
    "Make sure each sample will have atleast 3 feautres/columns/attributes"
   ]
  },
  {
   "cell_type": "markdown",
   "metadata": {
    "colab_type": "text",
    "id": "zUqFEBSvNjCa"
   },
   "source": [
    "<font color='red'><b>Step - 2 </b></font>"
   ]
  },
  {
   "cell_type": "markdown",
   "metadata": {
    "colab_type": "text",
    "id": "uqi9AhCYNq3Z"
   },
   "source": [
    "<font color='blue'><b>Building High Variance Models on each of the sample and finding train MSE value</b></font>"
   ]
  },
  {
   "cell_type": "markdown",
   "metadata": {
    "colab_type": "text",
    "id": "-lLBnZHXOFln"
   },
   "source": [
    "*  Build a regression trees on each of 30 samples.\n",
    "*  Computed the predicted values of each data point(506 data points) in your corpus.\n",
    "*  Predicted house price of $i^{th}$ data point $y^{i}_{pred} =  \\frac{1}{30}\\sum_{k=1}^{30}(\\text{predicted value of } x^{i} \\text{ with } k^{th} \\text{ model})$\n",
    "*  Now calculate the $MSE =  \\frac{1}{506}\\sum_{i=1}^{506}(y^{i} - y^{i}_{pred})^{2}$"
   ]
  },
  {
   "cell_type": "markdown",
   "metadata": {
    "colab_type": "text",
    "id": "Kls23JLnSN23"
   },
   "source": [
    "<font color='red'> <b>Step - 3 </b></font>"
   ]
  },
  {
   "cell_type": "markdown",
   "metadata": {
    "colab_type": "text",
    "id": "rz2GchkGSWnh"
   },
   "source": [
    "*  <font color='blue'><b>Calculating the OOB score </b></font>"
   ]
  },
  {
   "cell_type": "markdown",
   "metadata": {
    "colab_type": "text",
    "id": "DGHkVV2kSibm"
   },
   "source": [
    "*  Predicted house price of $i^{th}$ data point $y^{i}_{pred} =  \\frac{1}{k}\\sum_{\\text{k= model which was buit on samples not included } x^{i}}(\\text{predicted value of } x^{i} \\text{ with } k^{th} \\text{ model})$.\n",
    "*  Now calculate the $OOB Score =  \\frac{1}{506}\\sum_{i=1}^{506}(y^{i} - y^{i}_{pred})^{2}$."
   ]
  },
  {
   "cell_type": "markdown",
   "metadata": {
    "colab_type": "text",
    "id": "1dme-N6TUCrY"
   },
   "source": [
    "*  <font color='blue'><b>Computing CI of OOB Score and Train MSE</b></font>\n",
    "  *   Repeat Task 1 for 35 times, and for each iteration store the Train MSE and OOB score </li>\n",
    "<li> After this we will have 35 Train MSE values and 35 OOB scores </li>\n",
    "<li> using these 35 values (assume like a sample) find the confidence intravels of MSE and OOB Score </li>\n",
    "<li> you need to report CI of MSE and CI of OOB Score </li>"
   ]
  },
  {
   "cell_type": "markdown",
   "metadata": {
    "colab_type": "text",
    "id": "bOC_AgsLU7OH"
   },
   "source": [
    "*  <font color='blue'><b>Given a single query point predict the price of house.</b></font>"
   ]
  },
  {
   "cell_type": "markdown",
   "metadata": {
    "colab_type": "text",
    "id": "HYs5jSFdVILe"
   },
   "source": [
    "Consider xq= [0.18,20.0,5.00,0.0,0.421,5.60,72.2,7.95,7.0,30.0,19.1,372.13,18.60] \n",
    "Predict the house price for this point as mentioned in the step 2 of Task 1."
   ]
  },
  {
   "cell_type": "markdown",
   "metadata": {
    "colab_type": "text",
    "id": "_6gxZEsFWm-8"
   },
   "source": [
    "<br><br><br>"
   ]
  },
  {
   "cell_type": "markdown",
   "metadata": {
    "colab_type": "text",
    "id": "e0yGBuryOwHz"
   },
   "source": [
    "<font color='blue'><b>Step - 1</b></font>"
   ]
  },
  {
   "cell_type": "markdown",
   "metadata": {
    "colab_type": "text",
    "id": "lJXX8vf3z073"
   },
   "source": [
    "*  <font color='blue'> <b>Creating samples</b></font>"
   ]
  },
  {
   "cell_type": "code",
   "execution_count": 7,
   "metadata": {
    "colab": {},
    "colab_type": "code",
    "id": "Ph_6D2SDzz7F"
   },
   "outputs": [],
   "source": [
    "def generating_samples(input_data, target_data):\n",
    "\n",
    "    '''In this function, we will write code for generating 30 samples '''\n",
    "    # you can use random.choice to generate random indices without replacement\n",
    "    # Please have a look at this link https://docs.scipy.org/doc/numpy-1.16.0/reference/generated/numpy.random.choice.html for more details\n",
    "    # Please follow above pseudo code for generating samples\n",
    "    selected_rows = np.random.choice(input_data.shape[0], 303, replace=False)\n",
    "    r_rows = np.random.choice(selected_rows.shape[0], 203, replace=True)\n",
    "    selected_columns = np.random.choice(input_data.shape[1], np.random.randint(3,input_data.shape[1],1), replace=False)\n",
    "    sample_data = input_data[selected_rows[:,None], selected_columns]\n",
    "    target_data = target_data[selected_rows]\n",
    "    \n",
    "    # replacting_data\n",
    "    replicated_sample = sample_data[r_rows]\n",
    "    target_rep = target_data[r_rows]\n",
    "    \n",
    "    # Concatenating data\n",
    "    sampled_input_data = np.vstack((sample_data, replicated_sample))\n",
    "    sample_target_data = np.concatenate((target_data, target_rep), axis=0)\n",
    "    \n",
    "\n",
    "    return sampled_input_data , sampled_target_data,selected_rows,selected_columns\n",
    "    #note please return as lists"
   ]
  },
  {
   "cell_type": "markdown",
   "metadata": {
    "colab_type": "text",
    "id": "b4LSsmn4Jn2_"
   },
   "source": [
    "*  <font color='blue'> <b>Create 30 samples </b>"
   ]
  },
  {
   "cell_type": "code",
   "execution_count": 9,
   "metadata": {
    "colab": {},
    "colab_type": "code",
    "id": "XXlKWjCcBvTk"
   },
   "outputs": [],
   "source": [
    "# Use generating_samples function to create 30 samples \n",
    "# store these created samples in a list\n",
    "list_input_data =[]\n",
    "list_output_data =[]\n",
    "list_selected_row= []\n",
    "list_selected_columns=[]\n",
    "\n",
    "for i in range(0,30):\n",
    "    a,b,c,d = generating_samples(x,y)\n",
    "    list_input_data.append(a)\n",
    "    list_output_data.append(b)\n",
    "    list_selected_row.append(c)\n",
    "    list_selected_columns.append(d)"
   ]
  },
  {
   "cell_type": "markdown",
   "metadata": {
    "colab_type": "text",
    "id": "whaHCPB0O8qF"
   },
   "source": [
    "<font color='red'><b>Step - 2 </b></font>"
   ]
  },
  {
   "cell_type": "markdown",
   "metadata": {
    "colab_type": "text",
    "id": "WRwPO_uHQjul"
   },
   "source": [
    "*  <font color='blue'><b> Write code for building regression trees</b></font>"
   ]
  },
  {
   "cell_type": "code",
   "execution_count": 12,
   "metadata": {
    "colab": {},
    "colab_type": "code",
    "id": "YWQp6tRwMthq"
   },
   "outputs": [],
   "source": [
    "from sklearn.ensemble import RandomForestRegressor\n",
    "trees = []\n",
    "for i in range(30):\n",
    "    dt = RandomForestRegressor(max_depth=None)\n",
    "    input_data = list_input_data[i]\n",
    "    target_data = list_output_data[i]\n",
    "    dt.fit(input_data, target_data)\n",
    "    trees.append(dt)"
   ]
  },
  {
   "cell_type": "markdown",
   "metadata": {
    "colab_type": "text",
    "id": "21j8BKfAQ1U8"
   },
   "source": [
    "<font color='orange'><b>Flowchart for calculating MSE </b></font>"
   ]
  },
  {
   "cell_type": "markdown",
   "metadata": {
    "colab_type": "text",
    "id": "6e-UamlHRjPy"
   },
   "source": [
    "After getting predicted_y for each data point, we can use sklearns mean_squared_error to calculate the MSE between predicted_y and actual_y."
   ]
  },
  {
   "cell_type": "markdown",
   "metadata": {
    "colab_type": "text",
    "id": "TnIMT7_oR312"
   },
   "source": [
    "*  <font color='blue'><b> Write code for calculating MSE</b></font>"
   ]
  },
  {
   "cell_type": "code",
   "execution_count": 26,
   "metadata": {
    "colab": {},
    "colab_type": "code",
    "id": "qWhcvMRWRA9b"
   },
   "outputs": [
    {
     "name": "stdout",
     "output_type": "stream",
     "text": [
      "MSE value of sample1 is 44.475134832947276\n",
      "MSE value of sample2 is 52.245032672402324\n",
      "MSE value of sample3 is 43.16755897002427\n",
      "MSE value of sample4 is 55.03879187436881\n",
      "MSE value of sample5 is 44.267905638362045\n",
      "MSE value of sample6 is 44.53910589293804\n",
      "MSE value of sample7 is 47.19360078456453\n",
      "MSE value of sample8 is 46.590184620758755\n",
      "MSE value of sample9 is 47.78147318337792\n",
      "MSE value of sample10 is 47.46473254349309\n",
      "MSE value of sample11 is 47.6514310934195\n",
      "MSE value of sample12 is 51.85512214899914\n",
      "MSE value of sample13 is 47.62382216181704\n",
      "MSE value of sample14 is 46.006847196400564\n",
      "MSE value of sample15 is 43.89358448023576\n",
      "MSE value of sample16 is 47.33969529510235\n",
      "MSE value of sample17 is 49.157856992148666\n",
      "MSE value of sample18 is 45.85830431477411\n",
      "MSE value of sample19 is 47.798062634571785\n",
      "MSE value of sample20 is 49.013359245934645\n",
      "MSE value of sample21 is 44.974854383003105\n",
      "MSE value of sample22 is 50.92671199404856\n",
      "MSE value of sample23 is 47.551010158696634\n",
      "MSE value of sample24 is 46.9798322743077\n",
      "MSE value of sample25 is 48.204421327196826\n",
      "MSE value of sample26 is 46.03955072343932\n",
      "MSE value of sample27 is 48.97219695401445\n",
      "MSE value of sample28 is 47.123165414710364\n",
      "MSE value of sample29 is 44.759648150802\n",
      "MSE value of sample30 is 49.77775167428092\n"
     ]
    }
   ],
   "source": [
    "predictions = []\n",
    "for i in range(30):\n",
    "    predictions.append(trees[i].predict(list_input_data[i]))\n",
    "    \n",
    "\n",
    "mse_train = []\n",
    "for i in range(30):\n",
    "    y = list_output_data[i]\n",
    "    mse_train.append(mean_squared_error(predictions[i], y))\n",
    "\n",
    "for i in range(30):\n",
    "    print(\"MSE value of sample{} is {}\".format(i+1, mse_train[i]))    "
   ]
  },
  {
   "cell_type": "code",
   "execution_count": 27,
   "metadata": {},
   "outputs": [
    {
     "name": "stdout",
     "output_type": "stream",
     "text": [
      "83.98216540356778\n"
     ]
    }
   ],
   "source": [
    "boston = load_boston()\n",
    "x = boston.data #independent variables\n",
    "y=boston.target #target variable\n",
    "pred_cor = list()\n",
    "for i in range(30):\n",
    "    pred_cor.append(trees[i].predict(x[:,list_selected_columns[i]]))\n",
    "\n",
    "pred_y = np.zeros(x.shape[0])\n",
    "for i in range(x.shape[0]):\n",
    "    for j in range(30):\n",
    "        pred_y[i] += pred_cor[j][i]\n",
    "    pred_y[i] /= 30\n",
    "\n",
    "mse_pop = mean_squared_error(y, pred_y)\n",
    "print(mse_pop)"
   ]
  },
  {
   "cell_type": "markdown",
   "metadata": {
    "colab_type": "text",
    "id": "RuclPDMnSz8F"
   },
   "source": [
    "<font color='blue'><b>Step - 3 </b></font>"
   ]
  },
  {
   "cell_type": "markdown",
   "metadata": {
    "colab_type": "text",
    "id": "ESb9FSIDTM5V"
   },
   "source": [
    "<font color='orange'><b>Flowchart for calculating OOB score</b></font>"
   ]
  },
  {
   "cell_type": "markdown",
   "metadata": {
    "colab_type": "text",
    "id": "WW3GOcFzTqbt"
   },
   "source": [
    "Now calculate the $OOB Score =  \\frac{1}{506}\\sum_{i=1}^{506}(y^{i} - y^{i}_{pred})^{2}$."
   ]
  },
  {
   "cell_type": "markdown",
   "metadata": {
    "colab_type": "text",
    "id": "zBqcS03pUYSZ"
   },
   "source": [
    "*  <font color='blue'><b> Write code for calculating OOB score </b></font>"
   ]
  },
  {
   "cell_type": "code",
   "execution_count": 14,
   "metadata": {},
   "outputs": [
    {
     "name": "stdout",
     "output_type": "stream",
     "text": [
      "95.90761661295751\n"
     ]
    }
   ],
   "source": [
    "pred_cor = list()\n",
    "for i in range(30):\n",
    "    pred_cor.append(trees[i].predict(x[:,list_selected_columns[i]]))\n",
    "\n",
    "pred_y_oob = np.zeros(x.shape[0])\n",
    "for i in (range(x.shape[0])):\n",
    "    count_b = 0\n",
    "    for j in range(30):\n",
    "        count = 0\n",
    "        for k in range(x.shape[0]):\n",
    "            if np.all(np.equal(x[i,list_selected_columns[j]],np.array(list_input_data[j][k,0:len(list_input_data[j][0])]))):\n",
    "                count += 1\n",
    "                break\n",
    "        if count != 0:\n",
    "            continue\n",
    "        pred_y_oob[i] += pred_cor[j][i]\n",
    "        count_b += 1\n",
    "    pred_y_oob[i] /= count_b\n",
    "\n",
    "mse_oob_pop = mean_squared_error(y,pred_y_oob)\n",
    "print(mse_oob_pop)"
   ]
  },
  {
   "cell_type": "code",
   "execution_count": 15,
   "metadata": {},
   "outputs": [],
   "source": [
    "def generating_samples(input_data, target_data):\n",
    "\n",
    "    '''In this function, we will write code for generating 30 samples '''\n",
    "    # you can use random.choice to generate random indices without replacement\n",
    "    # Please have a look at this link https://docs.scipy.org/doc/numpy-1.16.0/reference/generated/numpy.random.choice.html for more details\n",
    "    # Please follow above pseudo code for generating samples\n",
    "    selected_rows = np.random.choice(input_data.shape[0], 303, replace=False)\n",
    "    r_rows = np.random.choice(selected_rows.shape[0], 203, replace=True)\n",
    "    selected_columns = np.random.choice(input_data.shape[1], np.random.randint(3,input_data.shape[1],1), replace=False)\n",
    "    sample_data = input_data[selected_rows[:,None], selected_columns]\n",
    "    target_data = target_data[selected_rows]\n",
    "    \n",
    "    # replacting_data\n",
    "    replicated_sample = sample_data[r_rows]\n",
    "    target_rep = target_data[r_rows]\n",
    "    \n",
    "    # Concatenating data\n",
    "    sampled_input_data = np.vstack((sample_data, replicated_sample))\n",
    "    sample_target_data = np.concatenate((target_data, target_rep), axis=0)\n",
    "    \n",
    "\n",
    "    return sampled_input_data , sampled_target_data,selected_rows,selected_columns\n"
   ]
  },
  {
   "cell_type": "code",
   "execution_count": 16,
   "metadata": {
    "colab": {},
    "colab_type": "code",
    "id": "ceW5-D88Uswi"
   },
   "outputs": [
    {
     "name": "stderr",
     "output_type": "stream",
     "text": [
      "100%|██████████████████████████████████████████████████████████████████████████████████| 35/35 [35:27<00:00, 60.80s/it]\n"
     ]
    }
   ],
   "source": [
    "from tqdm import tqdm\n",
    "boston = load_boston()\n",
    "x = boston.data #independent variables\n",
    "y=boston.target #target variable\n",
    "   \n",
    "    \n",
    "mse_corpus = list()\n",
    "mse_oob = list()\n",
    "for _ in tqdm(range(35)):\n",
    "        \n",
    "    list_input_data =[]\n",
    "    list_output_data =[]\n",
    "    list_selected_row= []\n",
    "    list_selected_columns=[]\n",
    "    for i in range(30):\n",
    "        a,b,c,d = generating_samples(x,y)\n",
    "        list_input_data.append(a)\n",
    "        list_output_data.append(b)\n",
    "        list_selected_row.append(c)\n",
    "        list_selected_columns.append(d)\n",
    "\n",
    "        \n",
    "    trees = list() #training the 30 DTs\n",
    "    for i in range(30):\n",
    "        dt = RandomForestRegressor(max_depth=None)\n",
    "        input_data = list_input_data[i]\n",
    "        target_data = list_output_data[i]\n",
    "        dt.fit(input_data, target_data)\n",
    "        trees.append(dt)\n",
    "        \n",
    "    x = boston.data\n",
    "    pred_cor = list()\n",
    "    for i in range(30):\n",
    "        pred_cor.append(trees[i].predict(x[:,list_selected_columns[i]]))\n",
    "        \n",
    "    y = boston.target\n",
    "    pred_y = np.zeros(x.shape[0])\n",
    "    for i in range(x.shape[0]):\n",
    "        for j in range(30):\n",
    "            pred_y[i] += pred_cor[j][i]\n",
    "        pred_y[i] /= 30\n",
    "            \n",
    "    m = mean_squared_error(y,pred_y)\n",
    "    mse_corpus.append(m)\n",
    "        \n",
    "    pred_y_oob = np.zeros(x.shape[0])\n",
    "    for i in (range(x.shape[0])):\n",
    "        count_b = 0\n",
    "        for j in range(30):\n",
    "            count = 0\n",
    "            for k in range(x.shape[0]):\n",
    "                if np.all(np.equal(x[i,list_selected_columns[j]],np.array(list_input_data[j][k,0:len(list_input_data[j][0])]))):\n",
    "                    count += 1\n",
    "                    break\n",
    "            if count != 0:\n",
    "                continue\n",
    "            pred_y_oob[i] += pred_cor[j][i]\n",
    "            count_b += 1\n",
    "        pred_y_oob[i] /= count_b\n",
    "            \n",
    "    ms = mean_squared_error(y, pred_y_oob)\n",
    "    mse_oob.append(ms)\n",
    "\n",
    "m = np.asarray(mse_corpus)\n",
    "mo = np.asarray(mse_oob)        \n",
    "        "
   ]
  },
  {
   "cell_type": "code",
   "execution_count": 25,
   "metadata": {},
   "outputs": [
    {
     "name": "stdout",
     "output_type": "stream",
     "text": [
      "[88.71937163 86.9335312  85.69196418 87.56384463 86.43665058 85.2727732\n",
      " 87.36122717 86.75667714 86.78784384 86.31381278 83.98323058 86.17012706\n",
      " 86.55096764 84.77892916 86.23984195 86.74507753 88.35502449 84.39642928\n",
      " 86.87015105 84.73242319 86.43920158 86.4680041  85.7563917  86.66632432\n",
      " 84.1716166  86.06753496 86.48279509 83.65789352 84.6232441  84.63344815\n",
      " 86.60863625 86.55909744 90.36418039 86.41763521 83.9821654 ]\n",
      "[89.57488665 88.66683496 85.8959892  87.96952901 86.51611953 85.34093686\n",
      " 87.67729504 88.68527316 88.14979257 88.44437705 85.21488608 87.11740276\n",
      " 87.08021256 84.6778408  87.23845936 86.48876928 88.80838944 83.61214892\n",
      " 87.90172128 86.04858511 85.73831531 87.16603976 85.34019089 87.07898666\n",
      " 84.34197151 87.36338213 87.98005261 85.24595823 84.49388999 84.91827689\n",
      " 88.28318615 86.51549965 91.75129002 87.69037764 83.08345681]\n"
     ]
    }
   ],
   "source": [
    "print(m)\n",
    "print(mo)"
   ]
  },
  {
   "cell_type": "code",
   "execution_count": 20,
   "metadata": {},
   "outputs": [
    {
     "name": "stdout",
     "output_type": "stream",
     "text": [
      "+----------+-------------+-------------------+-------------------+------------+----------+-----------+-------+\n",
      "| #samples | Sample Size |    Sample mean    |  Population Mean  | Sample Std | Left C.I | Right C.I | Catch |\n",
      "+----------+-------------+-------------------+-------------------+------------+----------+-----------+-------+\n",
      "|    1     |      20     | 85.99108142272061 | 83.98216540356778 |   0.334    |  85.324  |   86.658  | False |\n",
      "|    2     |      20     | 86.09939897178191 | 83.98216540356778 |   0.194    |  85.712  |   86.487  | False |\n",
      "|    3     |      20     | 86.52760910060496 | 83.98216540356778 |   0.339    |  85.849  |   87.206  | False |\n",
      "|    4     |      20     | 86.24941122402782 | 83.98216540356778 |    0.32    |  85.61   |   86.889  | False |\n",
      "|    5     |      20     | 86.41983980600041 | 83.98216540356778 |   0.319    |  85.782  |   87.057  | False |\n",
      "|    6     |      20     | 85.84709953432154 | 83.98216540356778 |   0.314    |  85.219  |   86.476  | False |\n",
      "|    7     |      20     | 86.09173522681866 | 83.98216540356778 |   0.254    |  85.584  |    86.6   | False |\n",
      "|    8     |      20     |  86.3065299137562 | 83.98216540356778 |   0.329    |  85.649  |   86.964  | False |\n",
      "|    9     |      20     | 86.46946673266687 | 83.98216540356778 |   0.333    |  85.804  |   87.135  | False |\n",
      "|    10    |      20     | 86.25459257069232 | 83.98216540356778 |   0.265    |  85.726  |   86.784  | False |\n",
      "+----------+-------------+-------------------+-------------------+------------+----------+-----------+-------+\n",
      "C.I of mse_scores\n"
     ]
    }
   ],
   "source": [
    "from prettytable import PrettyTable\n",
    "import random\n",
    "\n",
    "\n",
    "\n",
    "x = PrettyTable()\n",
    "x = PrettyTable([\"#samples\", \"Sample Size\", \"Sample mean\", \"Population Mean\",\"Sample Std\",\"Left C.I\",\"Right C.I\", \"Catch\"])\n",
    "for i in range(10):\n",
    "    sample=m[random.sample(range(0, m.shape[0]), 20)]\n",
    "    sample_mean = sample.mean()\n",
    "    sample_std =  sample.std()\n",
    "    sample_size = len(sample)\n",
    "    # here we are using sample standard deviation instead of population standard deviation\n",
    "    left_limit  = np.round(sample_mean - 2*(sample_std/np.sqrt(sample_size)), 3)\n",
    "    right_limit = np.round(sample_mean + 2*(sample_std/np.sqrt(sample_size)), 3)\n",
    "    row = []\n",
    "    row.append(i+1)\n",
    "    row.append(sample_size)\n",
    "    row.append(sample_mean)\n",
    "    row.append(mse_pop)\n",
    "    row.append(np.round(sample_std/np.sqrt(sample_size),3))\n",
    "    row.append(left_limit)\n",
    "    row.append(right_limit)\n",
    "    row.append((mse_pop <= right_limit) and (mse_pop >= left_limit))\n",
    "    x.add_row(row)\n",
    "print(x)\n",
    "print(\"C.I of mse_scores\")\n"
   ]
  },
  {
   "cell_type": "code",
   "execution_count": 21,
   "metadata": {},
   "outputs": [
    {
     "name": "stdout",
     "output_type": "stream",
     "text": [
      "+----------+-------------+-------------------+-------------------+------------+----------+-----------+-------+\n",
      "| #samples | Sample Size |    Sample mean    |  Population Mean  | Sample Std | Left C.I | Right C.I | Catch |\n",
      "+----------+-------------+-------------------+-------------------+------------+----------+-----------+-------+\n",
      "|    1     |      20     | 86.85022995429458 | 95.90761661295751 |   0.366    |  86.118  |   87.583  | False |\n",
      "|    2     |      20     | 86.46056641959248 | 95.90761661295751 |    0.37    |  85.72   |   87.201  | False |\n",
      "|    3     |      20     | 86.78841685390535 | 95.90761661295751 |   0.363    |  86.062  |   87.515  | False |\n",
      "|    4     |      20     | 86.77612163276436 | 95.90761661295751 |   0.286    |  86.204  |   87.349  | False |\n",
      "|    5     |      20     | 86.71275931994988 | 95.90761661295751 |   0.467    |  85.779  |   87.646  | False |\n",
      "|    6     |      20     | 86.93952438409671 | 95.90761661295751 |   0.432    |  86.076  |   87.803  | False |\n",
      "|    7     |      20     | 86.81944950749302 | 95.90761661295751 |   0.406    |  86.008  |   87.631  | False |\n",
      "|    8     |      20     | 86.90499931141935 | 95.90761661295751 |   0.441    |  86.023  |   87.787  | False |\n",
      "|    9     |      20     | 87.14377031200915 | 95.90761661295751 |   0.427    |  86.29   |   87.998  | False |\n",
      "|    10    |      20     |  87.019525884786  | 95.90761661295751 |   0.378    |  86.263  |   87.776  | False |\n",
      "+----------+-------------+-------------------+-------------------+------------+----------+-----------+-------+\n",
      "C.I of oob mse_scores\n"
     ]
    }
   ],
   "source": [
    "x = PrettyTable()\n",
    "x = PrettyTable([\"#samples\", \"Sample Size\", \"Sample mean\", \"Population Mean\",\"Sample Std\",\"Left C.I\",\"Right C.I\", \"Catch\"])\n",
    "for i in range(10):\n",
    "    sample=mo[random.sample(range(0, mo.shape[0]), 20)]\n",
    "    sample_mean = sample.mean()\n",
    "    sample_std =  sample.std()\n",
    "    sample_size = len(sample)\n",
    "    # here we are using sample standard deviation instead of population standard deviation\n",
    "    left_limit  = np.round(sample_mean - 2*(sample_std/np.sqrt(sample_size)), 3)\n",
    "    right_limit = np.round(sample_mean + 2*(sample_std/np.sqrt(sample_size)), 3)\n",
    "    row = []\n",
    "    row.append(i+1)\n",
    "    row.append(sample_size)\n",
    "    row.append(sample_mean)\n",
    "    row.append(mse_oob_pop)\n",
    "    row.append(np.round(sample_std/np.sqrt(sample_size),3))\n",
    "    row.append(left_limit)\n",
    "    row.append(right_limit)\n",
    "    row.append((mse_oob_pop <= right_limit) and (mse_oob_pop >= left_limit))\n",
    "    x.add_row(row)\n",
    "print(x)\n",
    "print(\"C.I of oob mse_scores\")"
   ]
  },
  {
   "cell_type": "markdown",
   "metadata": {
    "colab_type": "text",
    "id": "NyjwEJ62V6a6"
   },
   "source": [
    " We created 30 models by using 30 samples in TASK-1. Here, we need send query point \"xq\"  to 30 models and perform the regression on the output generated by 30 models."
   ]
  },
  {
   "cell_type": "code",
   "execution_count": 23,
   "metadata": {
    "colab": {},
    "colab_type": "code",
    "id": "i_pUlSD-VYD1"
   },
   "outputs": [],
   "source": [
    "xq = [0.18,20.0,5.00,0.0,0.421,5.60,72.2,7.95,7.0,30.0,19.1,372.13,18.60]\n",
    "xq = np.asarray(xq)\n",
    "pred_cor = list()\n",
    "for i in range(30):\n",
    "    bh = xq[list_selected_columns[i]].reshape(1,-1)\n",
    "    pred_cor.append(trees[i].predict(bh))"
   ]
  },
  {
   "cell_type": "code",
   "execution_count": 24,
   "metadata": {},
   "outputs": [
    {
     "name": "stdout",
     "output_type": "stream",
     "text": [
      "Predicted value of xq is [25.37375794]\n"
     ]
    }
   ],
   "source": [
    "pred_y = 0\n",
    "for j in range(30):\n",
    "    pred_y += pred_cor[j]\n",
    "pred_y /= 30\n",
    "\n",
    "print(\"Predicted value of xq is {}\".format(pred_y))"
   ]
  },
  {
   "cell_type": "markdown",
   "metadata": {
    "colab_type": "text",
    "id": "DJHTGEZgWJjR"
   },
   "source": [
    "<br><br><br>"
   ]
  }
 ],
 "metadata": {
  "colab": {
   "collapsed_sections": [],
   "name": "Bootstrap_assignment.ipynb",
   "provenance": []
  },
  "kernelspec": {
   "display_name": "Python 3",
   "language": "python",
   "name": "python3"
  },
  "language_info": {
   "codemirror_mode": {
    "name": "ipython",
    "version": 3
   },
   "file_extension": ".py",
   "mimetype": "text/x-python",
   "name": "python",
   "nbconvert_exporter": "python",
   "pygments_lexer": "ipython3",
   "version": "3.6.5"
  }
 },
 "nbformat": 4,
 "nbformat_minor": 1
}
